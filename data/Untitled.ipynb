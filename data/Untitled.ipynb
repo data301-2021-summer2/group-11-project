{
 "cells": [
  {
   "cell_type": "code",
   "execution_count": null,
   "id": "578cde3c-59d6-43a1-8dbc-0fb6e48247c4",
   "metadata": {},
   "outputs": [],
   "source": [
    "#fig, axs = plt.subplots(ncols=3)\n",
    "#fig.set_figwidth(30)\n",
    "#fig.set_figheight(15)\n",
    "#sns.scatterplot(y=MLSHPIData['Kelowna Townhouse'],x=MLSHPIData.index,data=MLSHPIData,ax=axs[0])\n",
    "#sns.scatterplot(y=MLSHPIData['Vancouver Townhouse'],x=MLSHPIData.index,data=MLSHPIData,ax=axs[1])\n",
    "#sns.scatterplot(y=MLSHPIData['Canada Townhouse'],x=MLSHPIData.index,data=MLSHPIData,ax=axs[2]) "
   ]
  }
 ],
 "metadata": {
  "kernelspec": {
   "display_name": "Python 3 (ipykernel)",
   "language": "python",
   "name": "python3"
  },
  "language_info": {
   "codemirror_mode": {
    "name": "ipython",
    "version": 3
   },
   "file_extension": ".py",
   "mimetype": "text/x-python",
   "name": "python",
   "nbconvert_exporter": "python",
   "pygments_lexer": "ipython3",
   "version": "3.8.10"
  }
 },
 "nbformat": 4,
 "nbformat_minor": 5
}
