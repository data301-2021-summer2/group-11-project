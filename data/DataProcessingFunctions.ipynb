{
 "cells": [
  {
   "cell_type": "markdown",
   "id": "b40c8c23",
   "metadata": {},
   "source": [
    "# Data 301 Group 11 Project\n",
    "## Data Loading and Wrangling Functions"
   ]
  },
  {
   "cell_type": "markdown",
   "id": "68882b0d",
   "metadata": {},
   "source": [
    "## Data Loading"
   ]
  },
  {
   "cell_type": "markdown",
   "id": "ef6d1285",
   "metadata": {},
   "source": [
    "### Import Package Statements"
   ]
  },
  {
   "cell_type": "code",
   "execution_count": 1,
   "id": "72ead7ba",
   "metadata": {},
   "outputs": [],
   "source": [
    "import seaborn as sns\n",
    "import matplotlib.pyplot as plt\n",
    "import pandas as pd\n",
    "import numpy as np"
   ]
  },
  {
   "cell_type": "markdown",
   "id": "a2e40ce3",
   "metadata": {},
   "source": [
    "### Loading data into pd dataframes and wrangling"
   ]
  },
  {
   "cell_type": "markdown",
   "id": "4eae6423",
   "metadata": {},
   "source": [
    "#### Declaring temporary variables to hold return of dataframes"
   ]
  },
  {
   "cell_type": "code",
   "execution_count": 2,
   "id": "8bb6c47b",
   "metadata": {},
   "outputs": [],
   "source": [
    "#Function loads Statistics Canada Consumer Price Index Data via method-chaining. Little processing is required on this dataset.\n",
    "def loadStatCanCPI():\n",
    "    StatCanCPI = (\n",
    "        pd.read_csv(\n",
    "            './processed/preprocessed/Stat_Can_CPI_1985_to_Now.csv'\n",
    "        )\n",
    "        .set_index('Products and product groups 4')\n",
    "    )\n",
    "    return StatCanCPI\n",
    "\n",
    "#Function loads Statistics Canada British Columbia Housing Price Index Data\n",
    "def loadStatCanBCHPIData():\n",
    "    #Method Chain\n",
    "    StatCanBCHPI = (\n",
    "        pd.read_csv(\n",
    "            './processed/preprocessed/Stat_Can_HPI_BC-only_1986_to_2021_May.csv'\n",
    "        )\n",
    "        .drop(index=[1,2],axis=0)\n",
    "    )\n",
    "    \n",
    "    #Finds just columns with January in the name\n",
    "    colWithJan = [col for col in StatCanBCHPI.columns if 'Jan' in col]\n",
    "    colUpdated = []\n",
    "    \n",
    "    #Maps column name from two-formats in dataset (pre-01 and 01 onward) to standard year-format to match other DF.\n",
    "    for x in range(len(colWithJan)):\n",
    "        if colWithJan[x][4:6] != \"an\":\n",
    "            if (int(colWithJan[x][4:6])) > 80:\n",
    "                colUpdated.append(\"19\"+ colWithJan[x][4:6])\n",
    "            elif int(colWithJan[x][4:6]) == 0:\n",
    "                colUpdated.append(\"20\" + colWithJan[x][4:6]) \n",
    "        else: colUpdated.append(\"20\" + colWithJan[x][0:2])\n",
    "            \n",
    "    #Method Chain\n",
    "    #Dropping unused columns, applying column name update made in for loop above and renaming axis.\n",
    "    StatCanBCHPI = (\n",
    "        StatCanBCHPI[colWithJan].copy(deep=False)\n",
    "        .set_axis(colUpdated, axis='columns')\n",
    "        .set_axis(['BC New Housing Price Index'], axis='index')\n",
    "    )\n",
    "    \n",
    "    return StatCanBCHPI\n",
    "\n",
    "#Function loads Statistics Canada Canada-wide Housing Price Index Data\n",
    "def loadStatCanCanadaHPIData():\n",
    "    StatCanCanadaHPI = (\n",
    "        pd.read_csv(\n",
    "        './processed/preprocessed/Stat_Can_HPI_Canada_1981_to_2021_May.csv'\n",
    "        )\n",
    "    )\n",
    "    return StatCanCanadaHPI\n",
    "\n",
    "#Function loads Statistics Canada Prime Interest Rate Data\n",
    "def loadCanadaPrimeInterestRate():\n",
    "    #Method chaining\n",
    "    CanadaPIR = (\n",
    "        pd.read_csv(\n",
    "            './processed/preprocessed/Canada-Prime-Rate-History.csv'\n",
    "        )\n",
    "        #Transposing data to place column names as dates\n",
    "        .transpose()\n",
    "    )\n",
    "    \n",
    "    #After much effort, .columns cannot reference CanadaPIR before it is established so had to end-chain to run following command\n",
    "    CanadaPIR.columns = CanadaPIR.iloc[0]\n",
    "    CanadaPIR.drop(index = CanadaPIR.index[0], axis=0, inplace=True)\n",
    "    \n",
    "    #Finds just columns with str 'Jan' in the name to select January months\n",
    "    colWithJan = [col for col in CanadaPIR.columns if 'Jan' in col]\n",
    "    colUpdated = []\n",
    "    \n",
    "    #Maps column name from in dataset to standard year-format to match other DF.\n",
    "    for x in range(len(colWithJan)):\n",
    "        if (int(colWithJan[x][4:6])) > 80:\n",
    "             colUpdated.append(\"19\"+ colWithJan[x][4:6])\n",
    "        elif int(colWithJan[x][4:6]) == 0 or int(colWithJan[x][4:6]) > 0:\n",
    "            colUpdated.append(\"20\" + colWithJan[x][4:6]) \n",
    "              \n",
    "    #Method Chain\n",
    "    #Dropping unused columns, applying column name update made in for loop above.\n",
    "    CanadaPIR = (\n",
    "        CanadaPIR[colWithJan].copy(deep=False)\n",
    "        .set_axis(colUpdated, axis='columns')\n",
    "    )\n",
    "    \n",
    "    return CanadaPIR\n",
    "\n",
    "def loadMLSRegionalHPIData(): \n",
    "    #Method Chaining\n",
    "    MLSHPIData = (\n",
    "        pd.read_excel(\n",
    "            './processed/preprocessed/MLS HPI - Seasonally Adjusted.xlsx',\n",
    "            sheet_name=['AGGREGATE', 'OKANAGAN_VALLEY','GREATER_VANCOUVER'], \n",
    "            usecols=['Date', 'One_Storey_Benchmark_SA', 'Two_Storey_Benchmark_SA', 'Townhouse_Benchmark_SA', 'Apartment_Benchmark_SA']\n",
    "        )\n",
    "    )\n",
    "    \n",
    "    #Updating Keys for clarity/redability and alignment to research question\n",
    "    MLSHPIData['Vancouver'] = MLSHPIData.pop('GREATER_VANCOUVER')\n",
    "    MLSHPIData['Kelowna'] = MLSHPIData.pop('OKANAGAN_VALLEY')\n",
    "    MLSHPIData['Canada'] = MLSHPIData.pop('AGGREGATE')\n",
    "      \n",
    "    #Cycling through keys and creating list for changing colums to add regional information, then setting horizontal index to be date in each key-value pair, then replacing column-names with new list\n",
    "    for key in MLSHPIData.keys():\n",
    "        colRenameInfo=[key + \" \" + 'One Storey Home', key + \" \" + 'Two Storey Home', key + \" \"  + 'Townhouse', key + \" \" + 'Apartment']\n",
    "        MLSHPIData[key].set_index('Date',inplace=True)\n",
    "        MLSHPIData[key].set_axis(colRenameInfo,axis='columns',inplace=True)\n",
    "    \n",
    "    #Joining all three regions together into one single dataframe\n",
    "    return MLSHPIData['Vancouver'].join(MLSHPIData['Kelowna'].join(MLSHPIData['Canada']))\n",
    "\n",
    "#Function loads World Bank Data for Canada regarding Economic Progress Indicators\n",
    "def loadWorldBankData():\n",
    "    #Method Chain\n",
    "    WorldBankData = ( \n",
    "        pd.read_csv(\n",
    "            './processed/preprocessed/World Bank Data - Indicators.csv'\n",
    "        )\n",
    "        .set_index('Year')\n",
    "    )\n",
    "        \n",
    "    \n",
    "    #WorldBankData.drop(index=WorldBankData.index[1], axis=0, inplace=True)\n",
    "    return WorldBankData"
   ]
  },
  {
   "cell_type": "code",
   "execution_count": 3,
   "id": "1239e62b",
   "metadata": {},
   "outputs": [],
   "source": [
    "#The following function is the loadAll function which loads independent datasources and returns an array of all the dataframes.\n",
    "def loadAll():\n",
    "    StatCanCPI = loadStatCanCPI()\n",
    "    StatCanBCHPI = loadStatCanBCHPIData()\n",
    "    StatCanCanadaHPI = loadStatCanCanadaHPIData()\n",
    "    CanadaPIR = loadCanadaPrimeInterestRate()\n",
    "    WorldBankData = loadWorldBankData()\n",
    "    dataFrames = [StatCanCPI, StatCanBCHPI, CanadaPIR, WorldBankData]\n",
    "    return dataFrames\n",
    "\n",
    "#Merges individual dataframe into combined dataframe for ease of graphing/analysis\n",
    "def mergeDataframes():\n",
    "    ourData = loadAll()\n",
    "    #Merging StatCanCPI, StatCanBCHPI, CanadaPIR and WorldBankData all are wrangled into yearly sets.\n",
    "    masterDF = ourData[0].append(ourData[3].append(ourData[1].append(ourData[2]))).sort_index(axis=1).convert_dtypes(int)\n",
    "    return masterDF"
   ]
  },
  {
   "cell_type": "code",
   "execution_count": 4,
   "id": "f45f07a3",
   "metadata": {},
   "outputs": [],
   "source": [
    "##For testing/debugging purposes ONLY.\n",
    "masterDF = mergeDataframes()\n",
    "MLSHPIData = loadMLSRegionalHPIData()\n",
    "\n",
    "#collecting 2000 to 2021 data.\n",
    "masterDFFrom2000to2021 = masterDF.iloc[:, masterDF.shape[1]-22:masterDF.shape[1]-1]\n",
    "masterDFFrom1991to2021 = masterDF.iloc[:, masterDF.shape[1]-31:masterDF.shape[1]-1]\n",
    "\n",
    "\n"
   ]
  },
  {
   "cell_type": "code",
   "execution_count": 5,
   "id": "164afeba",
   "metadata": {},
   "outputs": [],
   "source": [
    "#masterDF"
   ]
  },
  {
   "cell_type": "code",
   "execution_count": null,
   "id": "0d3eeda5-eb23-43a3-aff3-e4d6f19db726",
   "metadata": {},
   "outputs": [],
   "source": []
  }
 ],
 "metadata": {
  "interpreter": {
   "hash": "260e861fc145802b2065f81493a634caf98c96d90fe2dfd40d3303e09cbbbc3d"
  },
  "kernelspec": {
   "display_name": "Python 3 (ipykernel)",
   "language": "python",
   "name": "python3"
  },
  "language_info": {
   "codemirror_mode": {
    "name": "ipython",
    "version": 3
   },
   "file_extension": ".py",
   "mimetype": "text/x-python",
   "name": "python",
   "nbconvert_exporter": "python",
   "pygments_lexer": "ipython3",
   "version": "3.9.1"
  }
 },
 "nbformat": 4,
 "nbformat_minor": 5
}
