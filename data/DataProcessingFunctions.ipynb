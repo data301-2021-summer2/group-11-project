{
 "cells": [
  {
   "cell_type": "markdown",
   "id": "2746ce04-c7b5-40a5-8200-218eb759bc06",
   "metadata": {},
   "source": [
    "# Data 301 Group 11 Project\n",
    "## Data Loading and Wrangling Functions"
   ]
  },
  {
   "cell_type": "markdown",
   "id": "8e2dbf9c-ad79-40d3-9475-d88183e7ef66",
   "metadata": {},
   "source": [
    "## Data Loading"
   ]
  },
  {
   "cell_type": "markdown",
   "id": "1d5fe72a-b06b-42b9-aefc-a2118f42cc29",
   "metadata": {},
   "source": [
    "### Import Package Statements"
   ]
  },
  {
   "cell_type": "code",
   "execution_count": 47,
   "id": "8655bf29-cd98-42ce-9ec6-dd53db503994",
   "metadata": {},
   "outputs": [],
   "source": [
    "import seaborn as sns\n",
    "import matplotlib.pyplot as plt\n",
    "import pandas as pd\n",
    "import numpy as np"
   ]
  },
  {
   "cell_type": "markdown",
   "id": "def7ffc3-1d83-4655-a37d-7464f7cc9cf1",
   "metadata": {},
   "source": [
    "### Loading data into pd dataframes"
   ]
  },
  {
   "cell_type": "code",
   "execution_count": 75,
   "id": "282d2d70-54f9-4ad6-b0fd-0c0b86a5b328",
   "metadata": {},
   "outputs": [],
   "source": [
    "StatCanCPI = []\n",
    "StatCanBCHPI = []\n",
    "StatCanCanadaHPI = []\n",
    "CanadaPIR = []\n",
    "def loadStatCanCPI():\n",
    "    StatCanCPI = pd.read_csv('./processed/preprocessed/Stat_Can_CPI_1985_to_Now.csv')\n",
    "    return StatCanCPI\n",
    "def loadStatCanBCHPIData():\n",
    "    StatCanBCHPI = pd.read_csv('./processed/preprocessed/Stat_Can_HPI_BC-only_1986_to_2021_May.csv')\n",
    "    return StatCanBCHPI\n",
    "def loadStatCanCanadaHPIData():\n",
    "    StatCanCanadaHPI = pd.read_csv('./processed/preprocessed/Stat_Can_HPI_Canada_1981_to_2021_May.csv')\n",
    "    return StatCanCanadaHPI\n",
    "def loadCanadaPrimeInterestRate():\n",
    "    CanadaPIR = pd.read_csv('./processed/preprocessed/Canada-Prime-Rate-History.csv')\n",
    "    return CanadaPIR"
   ]
  },
  {
   "cell_type": "code",
   "execution_count": 76,
   "id": "a051ff7e-a57a-4f9d-b85a-d52f9012a616",
   "metadata": {},
   "outputs": [],
   "source": [
    "StatCanCPI = loadStatCanCPI()\n",
    "StatCanBCHPI = loadStatCanBCHPIData()\n",
    "StatCanCanadaHPI = loadStatCanCanadaHPIData()\n",
    "CanadaPIR = loadCanadaPrimeInterestRate()"
   ]
  },
  {
   "cell_type": "code",
   "execution_count": 80,
   "id": "21c6a846-93d1-449f-8afb-75f4e5b9112a",
   "metadata": {},
   "outputs": [
    {
     "data": {
      "text/html": [
       "<div>\n",
       "<style scoped>\n",
       "    .dataframe tbody tr th:only-of-type {\n",
       "        vertical-align: middle;\n",
       "    }\n",
       "\n",
       "    .dataframe tbody tr th {\n",
       "        vertical-align: top;\n",
       "    }\n",
       "\n",
       "    .dataframe thead th {\n",
       "        text-align: right;\n",
       "    }\n",
       "</style>\n",
       "<table border=\"1\" class=\"dataframe\">\n",
       "  <thead>\n",
       "    <tr style=\"text-align: right;\">\n",
       "      <th></th>\n",
       "      <th>Date</th>\n",
       "      <th>Prime Rate</th>\n",
       "      <th>Bank of Canada Overnight Rate</th>\n",
       "    </tr>\n",
       "  </thead>\n",
       "  <tbody>\n",
       "    <tr>\n",
       "      <th>0</th>\n",
       "      <td>Jan-81</td>\n",
       "      <td>18.25</td>\n",
       "      <td>16.89</td>\n",
       "    </tr>\n",
       "    <tr>\n",
       "      <th>1</th>\n",
       "      <td>Feb-81</td>\n",
       "      <td>18.25</td>\n",
       "      <td>16.34</td>\n",
       "    </tr>\n",
       "    <tr>\n",
       "      <th>2</th>\n",
       "      <td>Mar-81</td>\n",
       "      <td>17.75</td>\n",
       "      <td>17.15</td>\n",
       "    </tr>\n",
       "    <tr>\n",
       "      <th>3</th>\n",
       "      <td>Apr-81</td>\n",
       "      <td>18.25</td>\n",
       "      <td>18.81</td>\n",
       "    </tr>\n",
       "    <tr>\n",
       "      <th>4</th>\n",
       "      <td>May-81</td>\n",
       "      <td>19.50</td>\n",
       "      <td>18.82</td>\n",
       "    </tr>\n",
       "  </tbody>\n",
       "</table>\n",
       "</div>"
      ],
      "text/plain": [
       "     Date  Prime Rate  Bank of Canada Overnight Rate\n",
       "0  Jan-81       18.25                          16.89\n",
       "1  Feb-81       18.25                          16.34\n",
       "2  Mar-81       17.75                          17.15\n",
       "3  Apr-81       18.25                          18.81\n",
       "4  May-81       19.50                          18.82"
      ]
     },
     "execution_count": 80,
     "metadata": {},
     "output_type": "execute_result"
    }
   ],
   "source": [
    "CanadaPIR.head()"
   ]
  },
  {
   "cell_type": "code",
   "execution_count": null,
   "id": "88782321-e1bc-4769-8446-1fdd7f5e7f1e",
   "metadata": {},
   "outputs": [],
   "source": []
  }
 ],
 "metadata": {
  "kernelspec": {
   "display_name": "Python 3 (ipykernel)",
   "language": "python",
   "name": "python3"
  },
  "language_info": {
   "codemirror_mode": {
    "name": "ipython",
    "version": 3
   },
   "file_extension": ".py",
   "mimetype": "text/x-python",
   "name": "python",
   "nbconvert_exporter": "python",
   "pygments_lexer": "ipython3",
   "version": "3.8.10"
  }
 },
 "nbformat": 4,
 "nbformat_minor": 5
}
