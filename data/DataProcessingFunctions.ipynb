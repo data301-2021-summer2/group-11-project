{
 "cells": [
  {
   "cell_type": "markdown",
   "id": "2746ce04-c7b5-40a5-8200-218eb759bc06",
   "metadata": {},
   "source": [
    "# Data 301 Group 11 Project\n",
    "## Data Loading and Wrangling Functions"
   ]
  },
  {
   "cell_type": "markdown",
   "id": "8e2dbf9c-ad79-40d3-9475-d88183e7ef66",
   "metadata": {},
   "source": [
    "## Data Loading"
   ]
  },
  {
   "cell_type": "markdown",
   "id": "1d5fe72a-b06b-42b9-aefc-a2118f42cc29",
   "metadata": {},
   "source": [
    "### Import Package Statements"
   ]
  },
  {
   "cell_type": "code",
   "execution_count": 2,
   "id": "8655bf29-cd98-42ce-9ec6-dd53db503994",
   "metadata": {},
   "outputs": [],
   "source": [
    "import seaborn as sns\n",
    "import matplotlib.pyplot as plt\n",
    "import pandas as pd\n",
    "import numpy as np"
   ]
  },
  {
   "cell_type": "markdown",
   "id": "def7ffc3-1d83-4655-a37d-7464f7cc9cf1",
   "metadata": {},
   "source": [
    "### Loading data into pd dataframes"
   ]
  },
  {
   "cell_type": "code",
   "execution_count": 164,
   "id": "282d2d70-54f9-4ad6-b0fd-0c0b86a5b328",
   "metadata": {},
   "outputs": [],
   "source": [
    "StatCanCPI = []\n",
    "StatCanBCHPI = []\n",
    "StatCanCanadaHPI = []\n",
    "CanadaPIR = []\n",
    "WorldBankData = []\n",
    "def loadStatCanCPI():\n",
    "    StatCanCPI = pd.read_csv('./processed/preprocessed/Stat_Can_CPI_1985_to_Now.csv')\n",
    "    return StatCanCPI\n",
    "def loadStatCanBCHPIData():\n",
    "    StatCanBCHPI = pd.read_csv('./processed/preprocessed/Stat_Can_HPI_BC-only_1986_to_2021_May.csv')\n",
    "    StatCanBCHPI = StatCanBCHPI.drop(index=[1,2],axis=0)\n",
    "    return StatCanBCHPI\n",
    "def loadStatCanCanadaHPIData():\n",
    "    StatCanCanadaHPI = pd.read_csv('./processed/preprocessed/Stat_Can_HPI_Canada_1981_to_2021_May.csv')\n",
    "    return StatCanCanadaHPI\n",
    "def loadCanadaPrimeInterestRate():\n",
    "    CanadaPIR = pd.read_csv('./processed/preprocessed/Canada-Prime-Rate-History.csv')\n",
    "    CanadaPIR = CanadaPIR.transpose()\n",
    "    CanadaPIR.columns = CanadaPIR.iloc[0]\n",
    "    CanadaPIR.drop(index=CanadaPIR.index[0], axis=0, inplace=True)\n",
    "    return CanadaPIR\n",
    "def loadWorldBankData():\n",
    "    WorldBankData = pd.read_csv('./processed/preprocessed/World Bank Data - Indicators.csv')\n",
    "    return WorldBankData"
   ]
  },
  {
   "cell_type": "code",
   "execution_count": 184,
   "id": "a051ff7e-a57a-4f9d-b85a-d52f9012a616",
   "metadata": {},
   "outputs": [],
   "source": [
    "def loadAll():\n",
    "    StatCanCPI = loadStatCanCPI()\n",
    "    StatCanBCHPI = loadStatCanBCHPIData()\n",
    "    StatCanCanadaHPI = loadStatCanCanadaHPIData()\n",
    "    CanadaPIR = loadCanadaPrimeInterestRate()\n",
    "    WorldBankData = loadWorldBankData()\n",
    "    dataFrames = [StatCanCPI, StatCanBCHPI, CanadaPIR, WorldBankData]\n",
    "    return dataFrames\n",
    "ourData = loadAll()"
   ]
  },
  {
   "cell_type": "code",
   "execution_count": 186,
   "id": "21c6a846-93d1-449f-8afb-75f4e5b9112a",
   "metadata": {},
   "outputs": [
    {
     "data": {
      "text/html": [
       "<div>\n",
       "<style scoped>\n",
       "    .dataframe tbody tr th:only-of-type {\n",
       "        vertical-align: middle;\n",
       "    }\n",
       "\n",
       "    .dataframe tbody tr th {\n",
       "        vertical-align: top;\n",
       "    }\n",
       "\n",
       "    .dataframe thead th {\n",
       "        text-align: right;\n",
       "    }\n",
       "</style>\n",
       "<table border=\"1\" class=\"dataframe\">\n",
       "  <thead>\n",
       "    <tr style=\"text-align: right;\">\n",
       "      <th></th>\n",
       "      <th>Year</th>\n",
       "      <th>1960</th>\n",
       "      <th>1961</th>\n",
       "      <th>1962</th>\n",
       "      <th>1963</th>\n",
       "      <th>1964</th>\n",
       "      <th>1965</th>\n",
       "      <th>1966</th>\n",
       "      <th>1967</th>\n",
       "      <th>1968</th>\n",
       "      <th>...</th>\n",
       "      <th>2011</th>\n",
       "      <th>2012</th>\n",
       "      <th>2013</th>\n",
       "      <th>2014</th>\n",
       "      <th>2015</th>\n",
       "      <th>2016</th>\n",
       "      <th>2017</th>\n",
       "      <th>2018</th>\n",
       "      <th>2019</th>\n",
       "      <th>2020</th>\n",
       "    </tr>\n",
       "  </thead>\n",
       "  <tbody>\n",
       "    <tr>\n",
       "      <th>0</th>\n",
       "      <td>Unemployment, total (% of total labor force) (...</td>\n",
       "      <td>NaN</td>\n",
       "      <td>NaN</td>\n",
       "      <td>NaN</td>\n",
       "      <td>NaN</td>\n",
       "      <td>NaN</td>\n",
       "      <td>NaN</td>\n",
       "      <td>NaN</td>\n",
       "      <td>NaN</td>\n",
       "      <td>NaN</td>\n",
       "      <td>...</td>\n",
       "      <td>7.510000</td>\n",
       "      <td>7.290000</td>\n",
       "      <td>7.070000</td>\n",
       "      <td>6.910000</td>\n",
       "      <td>6.910000</td>\n",
       "      <td>7.000000</td>\n",
       "      <td>6.340000</td>\n",
       "      <td>5.830000</td>\n",
       "      <td>5.660000</td>\n",
       "      <td>9.48000</td>\n",
       "    </tr>\n",
       "    <tr>\n",
       "      <th>1</th>\n",
       "      <td>Unemployment with advanced education, male (% ...</td>\n",
       "      <td>NaN</td>\n",
       "      <td>NaN</td>\n",
       "      <td>NaN</td>\n",
       "      <td>NaN</td>\n",
       "      <td>NaN</td>\n",
       "      <td>NaN</td>\n",
       "      <td>NaN</td>\n",
       "      <td>NaN</td>\n",
       "      <td>NaN</td>\n",
       "      <td>...</td>\n",
       "      <td>5.750000</td>\n",
       "      <td>5.730000</td>\n",
       "      <td>5.540000</td>\n",
       "      <td>5.590000</td>\n",
       "      <td>5.600000</td>\n",
       "      <td>5.930000</td>\n",
       "      <td>5.270000</td>\n",
       "      <td>4.790000</td>\n",
       "      <td>4.650000</td>\n",
       "      <td>7.43000</td>\n",
       "    </tr>\n",
       "    <tr>\n",
       "      <th>2</th>\n",
       "      <td>Labor force participation rate, total (% of to...</td>\n",
       "      <td>NaN</td>\n",
       "      <td>NaN</td>\n",
       "      <td>NaN</td>\n",
       "      <td>NaN</td>\n",
       "      <td>NaN</td>\n",
       "      <td>NaN</td>\n",
       "      <td>NaN</td>\n",
       "      <td>NaN</td>\n",
       "      <td>NaN</td>\n",
       "      <td>...</td>\n",
       "      <td>66.410000</td>\n",
       "      <td>66.250000</td>\n",
       "      <td>66.220000</td>\n",
       "      <td>65.760000</td>\n",
       "      <td>65.610000</td>\n",
       "      <td>65.490000</td>\n",
       "      <td>65.590000</td>\n",
       "      <td>65.260000</td>\n",
       "      <td>65.570000</td>\n",
       "      <td>63.91000</td>\n",
       "    </tr>\n",
       "    <tr>\n",
       "      <th>3</th>\n",
       "      <td>Employment to population ratio, ages 15-24, to...</td>\n",
       "      <td>NaN</td>\n",
       "      <td>NaN</td>\n",
       "      <td>NaN</td>\n",
       "      <td>NaN</td>\n",
       "      <td>NaN</td>\n",
       "      <td>NaN</td>\n",
       "      <td>NaN</td>\n",
       "      <td>NaN</td>\n",
       "      <td>NaN</td>\n",
       "      <td>...</td>\n",
       "      <td>55.310000</td>\n",
       "      <td>54.340000</td>\n",
       "      <td>55.060000</td>\n",
       "      <td>55.550000</td>\n",
       "      <td>55.760000</td>\n",
       "      <td>55.380000</td>\n",
       "      <td>56.480000</td>\n",
       "      <td>56.300000</td>\n",
       "      <td>57.470000</td>\n",
       "      <td>49.28000</td>\n",
       "    </tr>\n",
       "    <tr>\n",
       "      <th>4</th>\n",
       "      <td>Gross savings (% of GDP)</td>\n",
       "      <td>NaN</td>\n",
       "      <td>NaN</td>\n",
       "      <td>NaN</td>\n",
       "      <td>NaN</td>\n",
       "      <td>NaN</td>\n",
       "      <td>NaN</td>\n",
       "      <td>NaN</td>\n",
       "      <td>NaN</td>\n",
       "      <td>NaN</td>\n",
       "      <td>...</td>\n",
       "      <td>20.857109</td>\n",
       "      <td>20.917951</td>\n",
       "      <td>21.597298</td>\n",
       "      <td>22.148494</td>\n",
       "      <td>19.569364</td>\n",
       "      <td>19.146455</td>\n",
       "      <td>19.845281</td>\n",
       "      <td>19.500026</td>\n",
       "      <td>20.011643</td>\n",
       "      <td>18.71884</td>\n",
       "    </tr>\n",
       "  </tbody>\n",
       "</table>\n",
       "<p>5 rows × 62 columns</p>\n",
       "</div>"
      ],
      "text/plain": [
       "                                                Year  1960  1961  1962  1963  \\\n",
       "0  Unemployment, total (% of total labor force) (...   NaN   NaN   NaN   NaN   \n",
       "1  Unemployment with advanced education, male (% ...   NaN   NaN   NaN   NaN   \n",
       "2  Labor force participation rate, total (% of to...   NaN   NaN   NaN   NaN   \n",
       "3  Employment to population ratio, ages 15-24, to...   NaN   NaN   NaN   NaN   \n",
       "4                           Gross savings (% of GDP)   NaN   NaN   NaN   NaN   \n",
       "\n",
       "   1964  1965  1966  1967  1968  ...       2011       2012       2013  \\\n",
       "0   NaN   NaN   NaN   NaN   NaN  ...   7.510000   7.290000   7.070000   \n",
       "1   NaN   NaN   NaN   NaN   NaN  ...   5.750000   5.730000   5.540000   \n",
       "2   NaN   NaN   NaN   NaN   NaN  ...  66.410000  66.250000  66.220000   \n",
       "3   NaN   NaN   NaN   NaN   NaN  ...  55.310000  54.340000  55.060000   \n",
       "4   NaN   NaN   NaN   NaN   NaN  ...  20.857109  20.917951  21.597298   \n",
       "\n",
       "        2014       2015       2016       2017       2018       2019      2020  \n",
       "0   6.910000   6.910000   7.000000   6.340000   5.830000   5.660000   9.48000  \n",
       "1   5.590000   5.600000   5.930000   5.270000   4.790000   4.650000   7.43000  \n",
       "2  65.760000  65.610000  65.490000  65.590000  65.260000  65.570000  63.91000  \n",
       "3  55.550000  55.760000  55.380000  56.480000  56.300000  57.470000  49.28000  \n",
       "4  22.148494  19.569364  19.146455  19.845281  19.500026  20.011643  18.71884  \n",
       "\n",
       "[5 rows x 62 columns]"
      ]
     },
     "execution_count": 186,
     "metadata": {},
     "output_type": "execute_result"
    }
   ],
   "source": [
    "ourData[3].head()"
   ]
  },
  {
   "cell_type": "code",
   "execution_count": null,
   "id": "dbc62d96-f358-441c-82b6-35df2b6138b8",
   "metadata": {},
   "outputs": [],
   "source": [
    "#CanadaPIR.set_index('Date')\n",
    "ourData[2]\n",
    "sns.barplot(data = ourData[2])"
   ]
  },
  {
   "cell_type": "code",
   "execution_count": 168,
   "id": "9691f366-1ef6-45c3-b2f1-cbdeba1c14d8",
   "metadata": {},
   "outputs": [
    {
     "name": "stdout",
     "output_type": "stream",
     "text": [
      "(1, 427)\n",
      "  New housing price indexes  Jan-86  Feb-86  Mar-86  Apr-86  May-86  Jun-86  \\\n",
      "0    Total (house and land)    66.3    66.4    66.4    66.8    67.1    66.9   \n",
      "\n",
      "   Jul-86  Aug-86  Sep-86  ...  20-Sep  20-Oct  20-Nov  20-Dec  21-Jan  \\\n",
      "0    66.8    66.8    67.2  ...   110.2   111.5   111.8   111.9   112.3   \n",
      "\n",
      "   21-Feb  21-Mar  21-Apr  21-May  21-Jun  \n",
      "0   116.3   117.2   118.9   120.0   119.7  \n",
      "\n",
      "[1 rows x 427 columns]\n"
     ]
    },
    {
     "data": {
      "text/plain": [
       "<AxesSubplot:>"
      ]
     },
     "execution_count": 168,
     "metadata": {},
     "output_type": "execute_result"
    },
    {
     "data": {
      "image/png": "[encoded data removed]",
      "text/plain": [
       "<Figure size 432x288 with 1 Axes>"
      ]
     },
     "metadata": {
      "needs_background": "light"
     },
     "output_type": "display_data"
    }
   ],
   "source": [
    "print(StatCanBCHPI.shape)\n",
    "print(StatCanBCHPI)\n",
    "sns.barplot(data = StatCanBCHPI)"
   ]
  },
  {
   "cell_type": "code",
   "execution_count": 95,
   "id": "88782321-e1bc-4769-8446-1fdd7f5e7f1e",
   "metadata": {},
   "outputs": [],
   "source": [
    "MasterDataDF = []\n"
   ]
  },
  {
   "cell_type": "code",
   "execution_count": null,
   "id": "04fdb679-714e-4dcd-8486-6359e37c0902",
   "metadata": {},
   "outputs": [],
   "source": []
  }
 ],
 "metadata": {
  "kernelspec": {
   "display_name": "Python 3 (ipykernel)",
   "language": "python",
   "name": "python3"
  },
  "language_info": {
   "codemirror_mode": {
    "name": "ipython",
    "version": 3
   },
   "file_extension": ".py",
   "mimetype": "text/x-python",
   "name": "python",
   "nbconvert_exporter": "python",
   "pygments_lexer": "ipython3",
   "version": "3.9.1"
  }
 },
 "nbformat": 4,
 "nbformat_minor": 5
}
