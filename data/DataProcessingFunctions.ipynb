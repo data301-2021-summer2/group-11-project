{
 "cells": [
  {
   "cell_type": "markdown",
   "source": [
    "# Data 301 Group 11 Project\n",
    "## Data Loading and Wrangling Functions"
   ],
   "metadata": {}
  },
  {
   "cell_type": "markdown",
   "source": [
    "## Data Loading"
   ],
   "metadata": {}
  },
  {
   "cell_type": "markdown",
   "source": [
    "### Import Package Statements"
   ],
   "metadata": {}
  },
  {
   "cell_type": "code",
   "execution_count": 5,
   "source": [
    "import seaborn as sns\r\n",
    "import matplotlib.pyplot as plt\r\n",
    "import pandas as pd\r\n",
    "import numpy as np"
   ],
   "outputs": [],
   "metadata": {}
  },
  {
   "cell_type": "markdown",
   "source": [
    "### Loading data into pd dataframes and wrangling"
   ],
   "metadata": {}
  },
  {
   "cell_type": "markdown",
   "source": [
    "#### Declaring temporary variables to hold return of dataframes"
   ],
   "metadata": {}
  },
  {
   "cell_type": "code",
   "execution_count": 2,
   "source": [
    "#Function loads Statistics Canada Consumer Price Index Data via method-chaining. Little processing is required on this dataset.\r\n",
    "def loadStatCanCPI():\r\n",
    "    StatCanCPI = (\r\n",
    "        pd.read_csv(\r\n",
    "            './processed/preprocessed/Stat_Can_CPI_1985_to_Now.csv'\r\n",
    "        )\r\n",
    "        .set_index('Products and product groups 4')\r\n",
    "    )\r\n",
    "    return StatCanCPI\r\n",
    "\r\n",
    "#Function loads Statistics Canada British Columbia Housing Price Index Data\r\n",
    "def loadStatCanBCHPIData():\r\n",
    "    #Method Chain\r\n",
    "    StatCanBCHPI = (\r\n",
    "        pd.read_csv(\r\n",
    "            './processed/preprocessed/Stat_Can_HPI_BC-only_1986_to_2021_May.csv'\r\n",
    "        )\r\n",
    "        .drop(index=[1,2],axis=0)\r\n",
    "    )\r\n",
    "    \r\n",
    "    #Finds just columns with January in the name\r\n",
    "    colWithJan = [col for col in StatCanBCHPI.columns if 'Jan' in col]\r\n",
    "    colUpdated = []\r\n",
    "    \r\n",
    "    #Maps column name from two-formats in dataset (pre-01 and 01 onward) to standard year-format to match other DF.\r\n",
    "    for x in range(len(colWithJan)):\r\n",
    "        if colWithJan[x][4:6] != \"an\":\r\n",
    "            if (int(colWithJan[x][4:6])) > 80:\r\n",
    "                colUpdated.append(\"19\"+ colWithJan[x][4:6])\r\n",
    "            elif int(colWithJan[x][4:6]) == 0:\r\n",
    "                colUpdated.append(\"20\" + colWithJan[x][4:6]) \r\n",
    "        else: colUpdated.append(\"20\" + colWithJan[x][0:2])\r\n",
    "            \r\n",
    "    #Method Chain\r\n",
    "    #Dropping unused columns, applying column name update made in for loop above and renaming axis.\r\n",
    "    StatCanBCHPI = (\r\n",
    "        StatCanBCHPI[colWithJan].copy(deep=False)\r\n",
    "        .set_axis(colUpdated, axis='columns')\r\n",
    "        .set_axis(['BC New Housing Price Index'], axis='index')\r\n",
    "    )\r\n",
    "    \r\n",
    "    return StatCanBCHPI\r\n",
    "\r\n",
    "#Function loads Statistics Canada Canada-wide Housing Price Index Data\r\n",
    "def loadStatCanCanadaHPIData():\r\n",
    "    StatCanCanadaHPI = (\r\n",
    "        pd.read_csv(\r\n",
    "        './processed/preprocessed/Stat_Can_HPI_Canada_1981_to_2021_May.csv'\r\n",
    "        )\r\n",
    "    )\r\n",
    "    return StatCanCanadaHPI\r\n",
    "\r\n",
    "#Function loads Statistics Canada Prime Interest Rate Data\r\n",
    "def loadCanadaPrimeInterestRate():\r\n",
    "    #Method chaining\r\n",
    "    CanadaPIR = (\r\n",
    "        pd.read_csv(\r\n",
    "            './processed/preprocessed/Canada-Prime-Rate-History.csv'\r\n",
    "        )\r\n",
    "        #Transposing data to place column names as dates\r\n",
    "        .transpose()\r\n",
    "    )\r\n",
    "    \r\n",
    "    #After much effort, .columns cannot reference CanadaPIR before it is established so had to end-chain to run following command\r\n",
    "    CanadaPIR.columns = CanadaPIR.iloc[0]\r\n",
    "    CanadaPIR.drop(index = CanadaPIR.index[0], axis=0, inplace=True)\r\n",
    "    \r\n",
    "    #Finds just columns with str 'Jan' in the name to select January months\r\n",
    "    colWithJan = [col for col in CanadaPIR.columns if 'Jan' in col]\r\n",
    "    colUpdated = []\r\n",
    "    \r\n",
    "    #Maps column name from in dataset to standard year-format to match other DF.\r\n",
    "    for x in range(len(colWithJan)):\r\n",
    "        if (int(colWithJan[x][4:6])) > 80:\r\n",
    "             colUpdated.append(\"19\"+ colWithJan[x][4:6])\r\n",
    "        elif int(colWithJan[x][4:6]) == 0 or int(colWithJan[x][4:6]) > 0:\r\n",
    "            colUpdated.append(\"20\" + colWithJan[x][4:6]) \r\n",
    "              \r\n",
    "    #Method Chain\r\n",
    "    #Dropping unused columns, applying column name update made in for loop above.\r\n",
    "    CanadaPIR = (\r\n",
    "        CanadaPIR[colWithJan].copy(deep=False)\r\n",
    "        .set_axis(colUpdated, axis='columns')\r\n",
    "    )\r\n",
    "    \r\n",
    "    return CanadaPIR\r\n",
    "\r\n",
    "def loadMLSRegionalHPIData(): \r\n",
    "    #Method Chaining\r\n",
    "    MLSHPIData = (\r\n",
    "        pd.read_excel(\r\n",
    "            './processed/preprocessed/MLS HPI - Seasonally Adjusted.xlsx',\r\n",
    "            sheet_name=['AGGREGATE', 'OKANAGAN_VALLEY','GREATER_VANCOUVER'], \r\n",
    "            usecols=['Date', 'One_Storey_Benchmark_SA', 'Two_Storey_Benchmark_SA', 'Townhouse_Benchmark_SA', 'Apartment_Benchmark_SA']\r\n",
    "        )\r\n",
    "    )\r\n",
    "    \r\n",
    "    #Updating Keys for clarity/redability and alignment to research question\r\n",
    "    MLSHPIData['Vancouver'] = MLSHPIData.pop('GREATER_VANCOUVER')\r\n",
    "    MLSHPIData['Kelowna'] = MLSHPIData.pop('OKANAGAN_VALLEY')\r\n",
    "    MLSHPIData['Canada'] = MLSHPIData.pop('AGGREGATE')\r\n",
    "      \r\n",
    "    #Cycling through keys and creating list for changing colums to add regional information, then setting horizontal index to be date in each key-value pair, then replacing column-names with new list\r\n",
    "    for key in MLSHPIData.keys():\r\n",
    "        colRenameInfo=[key + \" \" + 'One Storey Home', key + \" \" + 'Two Storey Home', key + \" \"  + 'Townhouse', key + \" \" + 'Apartment']\r\n",
    "        MLSHPIData[key].set_index('Date',inplace=True)\r\n",
    "        MLSHPIData[key].set_axis(colRenameInfo,axis='columns',inplace=True)\r\n",
    "    \r\n",
    "    #Joining all three regions together into one single dataframe\r\n",
    "    return MLSHPIData['Vancouver'].join(MLSHPIData['Kelowna'].join(MLSHPIData['Canada']))\r\n",
    "\r\n",
    "#Function loads World Bank Data for Canada regarding Economic Progress Indicators\r\n",
    "def loadWorldBankData():\r\n",
    "    #Method Chain\r\n",
    "    WorldBankData = ( \r\n",
    "        pd.read_csv(\r\n",
    "            './processed/preprocessed/World Bank Data - Indicators.csv'\r\n",
    "        )\r\n",
    "        .set_index('Year')\r\n",
    "    )\r\n",
    "        \r\n",
    "    \r\n",
    "    #WorldBankData.drop(index=WorldBankData.index[1], axis=0, inplace=True)\r\n",
    "    return WorldBankData"
   ],
   "outputs": [],
   "metadata": {}
  },
  {
   "cell_type": "code",
   "execution_count": 3,
   "source": [
    "#The following function is the loadAll function which loads independent datasources and returns an array of all the dataframes.\r\n",
    "def loadAll():\r\n",
    "    StatCanCPI = loadStatCanCPI()\r\n",
    "    StatCanBCHPI = loadStatCanBCHPIData()\r\n",
    "    StatCanCanadaHPI = loadStatCanCanadaHPIData()\r\n",
    "    CanadaPIR = loadCanadaPrimeInterestRate()\r\n",
    "    WorldBankData = loadWorldBankData()\r\n",
    "    dataFrames = [StatCanCPI, StatCanBCHPI, CanadaPIR, WorldBankData]\r\n",
    "    return dataFrames\r\n",
    "\r\n",
    "#Merges individual dataframe into combined dataframe for ease of graphing/analysis\r\n",
    "def mergeDataframes():\r\n",
    "    ourData = loadAll()\r\n",
    "    #Merging StatCanCPI, StatCanBCHPI, CanadaPIR and WorldBankData all are wrangled into yearly sets.\r\n",
    "    masterDF = ourData[0].append(ourData[3].append(ourData[1].append(ourData[2]))).sort_index(axis=1).convert_dtypes(int)\r\n",
    "    return masterDF"
   ],
   "outputs": [],
   "metadata": {}
  },
  {
   "cell_type": "code",
   "execution_count": 4,
   "source": [
    "##For testing/debugging purposes ONLY.\r\n",
    "masterDF = mergeDataframes()\r\n",
    "MLSHPIData = loadMLSRegionalHPIData()\r\n",
    "\r\n",
    "#collecting 2000 to 2021 data.\r\n",
    "masterDFFrom2000to2021 = masterDF.iloc[:, masterDF.shape[1]-22:masterDF.shape[1]-1]\r\n",
    "masterDFFrom1991to2021 = masterDF.iloc[:, masterDF.shape[1]-31:masterDF.shape[1]-1]\r\n",
    "\r\n",
    "\r\n"
   ],
   "outputs": [],
   "metadata": {}
  },
  {
   "cell_type": "code",
   "execution_count": 6,
   "source": [
    "#masterDF\r\n",
    "masterDF.to_csv('./processed/masterDF.csv')"
   ],
   "outputs": [],
   "metadata": {}
  },
  {
   "cell_type": "code",
   "execution_count": null,
   "source": [],
   "outputs": [],
   "metadata": {}
  }
 ],
 "metadata": {
  "interpreter": {
   "hash": "260e861fc145802b2065f81493a634caf98c96d90fe2dfd40d3303e09cbbbc3d"
  },
  "kernelspec": {
   "name": "python3",
   "display_name": "Python 3.9.5 64-bit"
  },
  "language_info": {
   "codemirror_mode": {
    "name": "ipython",
    "version": 3
   },
   "file_extension": ".py",
   "mimetype": "text/x-python",
   "name": "python",
   "nbconvert_exporter": "python",
   "pygments_lexer": "ipython3",
   "version": "3.9.5"
  }
 },
 "nbformat": 4,
 "nbformat_minor": 5
}