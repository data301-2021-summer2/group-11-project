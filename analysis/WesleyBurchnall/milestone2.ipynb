{
 "cells": [
  {
   "cell_type": "markdown",
   "source": [
    "# UBCO Data 301 Group 11 \r\n",
    "## Wesley Burchnall \r\n",
    "## Milestone 2 Submission - Task 3"
   ],
   "metadata": {}
  },
  {
   "cell_type": "markdown",
   "source": [
    "### Importing the package that contains our project functions"
   ],
   "metadata": {}
  },
  {
   "cell_type": "code",
   "execution_count": 22,
   "source": [
    "import sys \r\n",
    "sys.path.append('..')\r\n",
    "from scripts import project_fuctions as pf"
   ],
   "outputs": [],
   "metadata": {}
  },
  {
   "cell_type": "markdown",
   "source": [
    "### Loading the data"
   ],
   "metadata": {}
  },
  {
   "cell_type": "code",
   "execution_count": 25,
   "source": [
    "### Loading the DataFrames for EDA\r\n",
    "masterDF = pf.load_and_process()\r\n",
    "MLS_BC_HPI_DF = pf.loadMLSRegionalHPIData()"
   ],
   "outputs": [],
   "metadata": {}
  },
  {
   "cell_type": "markdown",
   "source": [
    "### Exploring the data through the describe feature"
   ],
   "metadata": {}
  },
  {
   "cell_type": "markdown",
   "source": [
    "#### Examining Prime Rate - How does Historical Prime Rate compare to today?"
   ],
   "metadata": {}
  },
  {
   "cell_type": "code",
   "execution_count": 69,
   "source": [
    "#Establishing column name list for various decades\r\n",
    "The80s = [col for col in masterDF.columns if '198' in col]\r\n",
    "The90s = [col for col in masterDF.columns if '199' in col]\r\n",
    "The00s = [col for col in masterDF.columns if '200' in col]\r\n",
    "The10s = [col for col in masterDF.columns if '201' in col]\r\n",
    "The20s = [col for col in masterDF.columns if '202' in col]\r\n",
    "decades = {'80s' : The80s, '90s' :The90s, '00s' :The00s, '10s' :The10s, '20s' :The20s}\r\n",
    "\r\n",
    "#Choosing area of interest to collect data for\r\n",
    "AreaOfInterest = 'Prime Rate'\r\n",
    "meanData = {}\r\n",
    "\r\n",
    "for key in decades.keys():\r\n",
    "    meanData[key] = masterDF[decades[key]].loc[AreaOfInterest].mean()\r\n",
    "\r\n",
    "#Table Print\r\n",
    "TableHeader = \"A Summary of Mean \" + AreaOfInterest + \" By Decades in Tabular Form\"\r\n",
    "print(TableHeader)\r\n",
    "print(\"-\"*len(TableHeader))\r\n",
    "print(\"Decade | Mean \" + AreaOfInterest)\r\n",
    "for key in meanData.keys():\r\n",
    "    print(key + \"    | \" + str(meanData[key]))"
   ],
   "outputs": [
    {
     "output_type": "stream",
     "name": "stdout",
     "text": [
      "A Summary of Mean Prime Rate By Decades in Tabular Form\n",
      "-------------------------------------------------------\n",
      "Decade | Mean Prime Rate\n",
      "80s    | 12.333333333333334\n",
      "90s    | 7.95\n",
      "00s    | 5.05\n",
      "10s    | 2.9899999999999998\n",
      "20s    | 3.2\n"
     ]
    }
   ],
   "metadata": {}
  },
  {
   "cell_type": "markdown",
   "source": [
    "An interesting observation can be observed from this table that the mean interest rate has been decreasing every decade except it seems that in the 2020s, we are starting to see a slight increase."
   ],
   "metadata": {}
  },
  {
   "cell_type": "code",
   "execution_count": null,
   "source": [],
   "outputs": [],
   "metadata": {}
  }
 ],
 "metadata": {
  "kernelspec": {
   "name": "python3",
   "display_name": "Python 3.9.5 64-bit"
  },
  "language_info": {
   "codemirror_mode": {
    "name": "ipython",
    "version": 3
   },
   "file_extension": ".py",
   "mimetype": "text/x-python",
   "name": "python",
   "nbconvert_exporter": "python",
   "pygments_lexer": "ipython3",
   "version": "3.9.5"
  },
  "interpreter": {
   "hash": "260e861fc145802b2065f81493a634caf98c96d90fe2dfd40d3303e09cbbbc3d"
  }
 },
 "nbformat": 4,
 "nbformat_minor": 4
}