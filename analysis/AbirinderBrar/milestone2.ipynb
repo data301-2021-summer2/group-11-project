{
 "cells": [
  {
   "cell_type": "markdown",
   "id": "402ce05a",
   "metadata": {},
   "source": [
    "# UBO COSC 301/DATA 301 \n",
    "## Milestone 2\n",
    "## Task 3\n",
    "## Abirinder Brar"
   ]
  },
  {
   "cell_type": "code",
   "execution_count": null,
   "id": "4cb52e58",
   "metadata": {},
   "outputs": [],
   "source": [
    "import seaborn as sns\n",
    "import matplotlib.pyplot as plt\n",
    "from matplotlib.pyplot import figure\n",
    "import pandas as pd\n",
    "import numpy as np\n",
    "import sys \n",
    "sys.path.append('..')\n",
    "from scripts import project_fuctions as pf"
   ]
  },
  {
   "cell_type": "code",
   "execution_count": null,
   "id": "829a5be3",
   "metadata": {},
   "outputs": [],
   "source": [
    "#DataFrame Loading for EDA\n",
    "\n",
    "df_master = pf.load_and_process()\n"
   ]
  }
 ],
 "metadata": {
  "kernelspec": {
   "display_name": "Python 3 (ipykernel)",
   "language": "python",
   "name": "python3"
  },
  "language_info": {
   "codemirror_mode": {
    "name": "ipython",
    "version": 3
   },
   "file_extension": ".py",
   "mimetype": "text/x-python",
   "name": "python",
   "nbconvert_exporter": "python",
   "pygments_lexer": "ipython3",
   "version": "3.8.5"
  }
 },
 "nbformat": 4,
 "nbformat_minor": 5
}
